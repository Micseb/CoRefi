{
 "cells": [
  {
   "cell_type": "code",
   "execution_count": null,
   "metadata": {},
   "outputs": [],
   "source": [
    "! pip install spacy"
   ]
  },
  {
   "cell_type": "code",
   "execution_count": null,
   "metadata": {},
   "outputs": [],
   "source": [
    "! python -m spacy download en_core_web_sm"
   ]
  },
  {
   "cell_type": "code",
   "execution_count": null,
   "metadata": {},
   "outputs": [],
   "source": [
    "import spacy\n",
    "from spacy.gold import iob_to_biluo\n",
    "nlp = spacy.load(\"en_core_web_sm\", disable = ['textcat'])"
   ]
  },
  {
   "cell_type": "markdown",
   "metadata": {},
   "source": [
    "## Raw Text To Annotation Job Using Spacy "
   ]
  },
  {
   "cell_type": "code",
   "execution_count": null,
   "metadata": {},
   "outputs": [],
   "source": [
    "stop_list = [\"will\", \"shall\", \"would\", \"should\", \"shouldn't\", \"ought\", \"must\", \"mustn’t\", \"may\", \"might\", \"can\", \"could\",\"have\", \"has\", \"don’t\", \"seemed\", \"seems\", \"seem\", \"tried\"]\n",
    "allowed_forms = [\"NE\", \"VERB\", \"NOUN\", \"PRON\", \"PROPN\"]#, \"ADJ\",]\n",
    "possesive_determiners = [\"my\",  \"his\", \"their\", \"her\", \"our\", \"your\", \"its\"]\n",
    "\n",
    "data = {\n",
    "    \"tokens\": [], # {i, document, pos, lemma, text }\n",
    "    \"candidateMentions\":[]\n",
    "} # topics, available_mentions \n",
    "for index, topic in topics:\n",
    "    for doc_no in topic:\n",
    "        doc = nlp(topic[doc_no])\n",
    "        iobs = ['{}-{}'.format(i.ent_iob_, i.ent_type_) if i.ent_iob_ != 'O' else i.ent_iob_ for i in doc]\n",
    "        biluo = iob_to_biluo(iobs)\n",
    "        startNE = None \n",
    "        for i, t in enumerate(doc):\n",
    "            print(biluo[i] + \"-\" + t.text)\n",
    "            if startNE is None:\n",
    "                if biluo[i][0] == \"B\":\n",
    "                    if t.pos_ == \"DET\":\n",
    "                        startNE = len(data[\"tokens\"])  + 1\n",
    "                    else:\n",
    "                        startNE = len(data[\"tokens\"])\n",
    "                elif (t.pos_ in allowed_forms and (t.text.lower() not in stop_list) and (t.text.lower() not in possesive_determiners)) or biluo[i][0] == \"U\" : \n",
    "                    data[\"candidateMentions\"].append({\n",
    "                        \"start\":len(data[\"tokens\"]),\n",
    "                        \"end\":len(data[\"tokens\"])\n",
    "                        })\n",
    "            elif biluo[t.i][0] == \"L\":\n",
    "                data[\"candidateMentions\"].append(\n",
    "                    {\"start\":startNE,\n",
    "                    \"end\":len(data[\"tokens\"])})\n",
    "                startNE = None\n",
    "\n",
    "            data[\"tokens\"].append({\"i\": len(data[\"tokens\"]),\n",
    "                            \"pos\":t.pos_,\n",
    "                            'document':doc_no,\n",
    "                            'text':t.text, \n",
    "                            'lemma': t.lemma_,\n",
    "                            'noWhite': not t.whitespace_\n",
    "                            })\n",
    "firstMention = data[\"candidateMentions\"][0]\n",
    "firstMention[\"clustId\"] = \"{}-{}\".format(firstMention[\"start\"], firstMention[\"end\"])\n",
    "data[\"selectedCluster\"] = \"{}-{}\".format(firstMention[\"start\"], firstMention[\"end\"])\n",
    "data[\"mentions\"] = data[\"candidateMentions\"]\n",
    "data[\"fixableSpans\"] = True\n",
    "data[\"newMentions\"] = True\n",
    "data[\"reassignable\"] = True\n",
    "data[\"mode\"] =  \"annotation\"\n"
   ]
  },
  {
   "cell_type": "markdown",
   "metadata": {},
   "source": [
    "## JSON Config"
   ]
  },
  {
   "cell_type": "code",
   "execution_count": null,
   "metadata": {},
   "outputs": [],
   "source": [
    "import json"
   ]
  },
  {
   "cell_type": "code",
   "execution_count": null,
   "metadata": {},
   "outputs": [],
   "source": [
    "with open('annotation.json', 'w') as outfile:\n",
    "    json.dump(data, outfile)"
   ]
  },
  {
   "cell_type": "markdown",
   "metadata": {},
   "source": [
    "## MTURK CSV"
   ]
  },
  {
   "cell_type": "code",
   "execution_count": null,
   "metadata": {},
   "outputs": [],
   "source": [
    "# HTML Escape\n",
    "output_csv = \"\"\n",
    "data = html.escape(json.dumps(data))\n",
    "df = pd.DataFrame([{\"data\":data}]).to_csv(output_csv, index=False)"
   ]
  }
 ],
 "metadata": {
  "language_info": {
   "codemirror_mode": {
    "name": "ipython",
    "version": 3
   },
   "file_extension": ".py",
   "mimetype": "text/x-python",
   "name": "python",
   "nbconvert_exporter": "python",
   "pygments_lexer": "ipython3",
   "version": 3
  },
  "orig_nbformat": 2,
  "kernelspec": {
   "name": "python_defaultSpec_1594502117320",
   "display_name": "Python 3.8.3 64-bit"
  }
 },
 "nbformat": 4,
 "nbformat_minor": 2
}