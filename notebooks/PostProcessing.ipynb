{
 "cells": [
  {
   "cell_type": "markdown",
   "metadata": {},
   "source": [
    "## Result to JSON"
   ]
  },
  {
   "cell_type": "code",
   "execution_count": 8,
   "metadata": {},
   "outputs": [],
   "source": [
    "import json \n",
    "import os\n",
    "\n",
    "def json2conll(inputfile):\n",
    "    outfile = inputfile.replace(\"json\",\"conll\")\n",
    "    \n",
    "    with open(inputfile) as json_file:\n",
    "        data = json.load(json_file)\n",
    "    mentions = data['mentions']\n",
    "    cluster2id = {clustId: str(index) for index, clustId in enumerate(set([m[\"clustId\"] for m in mentions]))}\n",
    "\n",
    "    currentMention = mentions.pop(0)\n",
    "    topic = inputfile.split('_', 1)[1].replace(\".json\",\"\")\n",
    "    conll = [['#begin document ' + topic]]\n",
    "    for token in data[\"tokens\"]:\n",
    "\n",
    "        cluster = \"-\"\n",
    "        if token[\"i\"] == currentMention['start']: \n",
    "            cluster = \"({}\".format(cluster2id[currentMention[\"clustId\"]])\n",
    "        if token[\"i\"] == currentMention['end']: \n",
    "            if currentMention['start'] == currentMention['end']:\n",
    "                cluster += \")\"\n",
    "            else:\n",
    "                cluster = \"{})\".format(cluster2id[currentMention[\"clustId\"]])\n",
    "            if mentions:\n",
    "                currentMention = mentions.pop(0)\n",
    "        conll.append([token[\"doc_name\"], str(token[\"i\"]), token[\"text\"], cluster ])\n",
    "\n",
    "    conll.append([\"#end\"])\n",
    "    with open(outfile, 'w') as conll_file:\n",
    "        for row in conll:\n",
    "            conll_file.write(\"\\t\".join(row) + \"\\n\")"
   ]
  },
  {
   "cell_type": "markdown",
   "metadata": {},
   "source": [
    "## Process Review HIT"
   ]
  },
  {
   "cell_type": "code",
   "execution_count": 10,
   "metadata": {},
   "outputs": [],
   "source": [
    "import json \n",
    "import pandas as pd\n",
    "import html\n",
    "from pathlib import Path\n",
    "        \n",
    "infiles = []\n",
    "configs = []\n",
    "outfile = \"\"\n",
    "for inputfile in infiles:\n",
    "    with open(inputfile) as json_file:\n",
    "        data = json.load(json_file)\n",
    "        \n",
    "    config = {\n",
    "        \"mode\":\"reviewer\",\n",
    "        \"topic\":Path(inputfile).stem,\n",
    "        \"tokens\":data[\"tokens\"],\n",
    "        \"selectedCluster\": data['mentions'][0][\"clustId\"],\n",
    "        \"viewedMentions\": [data['mentions'][0]],\n",
    "        \"currentMention\": data['mentions'][1],\n",
    "        \"candidateMentions\": data['mentions'][2:]\n",
    "    }\n",
    "    config_string = html.escape(json.dumps(config))\n",
    "    configs.append({\"data\":config_string})\n",
    "\n",
    "df = pd.DataFrame(configs).to_csv(outfile, index=False)\n"
   ]
  },
  {
   "cell_type": "code",
   "execution_count": 9,
   "metadata": {
    "tags": []
   },
   "outputs": [],
   "source": [
    "\n",
    "directory = r'C:\\Users\\abornst\\Documents\\thesis\\data\\reviewer_trial'\n",
    "for filename in os.listdir(directory):\n",
    "    if filename.endswith(\".json\"):\n",
    "        json2conll(os.path.join(directory, filename))\n",
    "    else:\n",
    "        continue\n"
   ]
  },
  {
   "cell_type": "code",
   "execution_count": 2,
   "metadata": {},
   "outputs": [],
   "source": []
  },
  {
   "cell_type": "code",
   "execution_count": null,
   "metadata": {},
   "outputs": [],
   "source": []
  }
 ],
 "metadata": {
  "language_info": {
   "codemirror_mode": {
    "name": "ipython",
    "version": 3
   },
   "file_extension": ".py",
   "mimetype": "text/x-python",
   "name": "python",
   "nbconvert_exporter": "python",
   "pygments_lexer": "ipython3",
   "version": "3.8.3-final"
  },
  "orig_nbformat": 2,
  "kernelspec": {
   "name": "python38364bit74d6bbee72be4203a51c7d8693e15448",
   "display_name": "Python 3.8.3 64-bit"
  }
 },
 "nbformat": 4,
 "nbformat_minor": 2
}